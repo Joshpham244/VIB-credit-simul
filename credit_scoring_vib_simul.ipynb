{
  "nbformat": 4,
  "nbformat_minor": 0,
  "metadata": {
    "colab": {
      "name": "credit scoring vib simul.ipynb",
      "private_outputs": true,
      "provenance": [],
      "collapsed_sections": []
    },
    "kernelspec": {
      "name": "python3",
      "display_name": "Python 3"
    },
    "language_info": {
      "name": "python"
    }
  },
  "cells": [
    {
      "cell_type": "code",
      "source": [
        "pip install streamlit"
      ],
      "metadata": {
        "id": "BreML5gpKGu3"
      },
      "execution_count": null,
      "outputs": []
    },
    {
      "cell_type": "code",
      "metadata": {
        "id": "FJ4gXnIak3h3"
      },
      "source": [
        "import pandas as pd\n",
        "import scipy as sp\n",
        "import numpy as np\n",
        "import seaborn as sns\n",
        "from sklearn.metrics import classification_report, confusion_matrix\n",
        "from statsmodels.stats.outliers_influence import variance_inflation_factor\n",
        "import matplotlib.pyplot as plt\n",
        "from sklearn.metrics import classification_report\n",
        "import sklearn.metrics as metrics\n",
        "import matplotlib.pyplot as plt\n",
        "import streamlit as st"
      ],
      "execution_count": null,
      "outputs": []
    },
    {
      "cell_type": "code",
      "source": [
        "df= pd.read_csv('./credit.csv')"
      ],
      "metadata": {
        "id": "PXGt7lAiKhQn"
      },
      "execution_count": null,
      "outputs": []
    },
    {
      "cell_type": "code",
      "source": [
        "df.head()"
      ],
      "metadata": {
        "id": "y-_tzaWMxo9a"
      },
      "execution_count": null,
      "outputs": []
    },
    {
      "cell_type": "code",
      "source": [
        "def housing_time(df):\n",
        "  condition = [\n",
        "             (df['age']<20),#Less than 1 year\n",
        "             (df['age']>=20)&(df['age']<24), #1-3 years\n",
        "             (df['age']>=24)&(df['age']<35),#3-6 years\n",
        "             (df['age']>=35)&(df['age']<50),#6-10 years\n",
        "             (df['age']>=50)]\n",
        "  choice =['less_1_years', '1-3_years','3-6_years','6-10_years','over_10_years']\n",
        "  df['housing_time'] = np.select(condition, choice)\n",
        "  return df['housing_time']\n",
        "\n",
        "def income(df):\n",
        "  conditions = [ \n",
        "              (df['job']=='skilled employee') ,\n",
        "              (df['job']=='unskilled resident') ,\n",
        "              (df['job']=='mangement self-employed') ,(df['job']=='unemployed non-resident')]\n",
        "  values = ['>8mill','5-8mil','3-5mil','2-3mil']\n",
        "  df['Income'] = np.select(conditions, values)\n",
        "  return df['Income']\n",
        "\n",
        "def education(df):\n",
        "  np.random.seed(445)\n",
        "  df['education'] = np.random.choice(  \n",
        "     a=['over_university_aboard', 'over_university_country', 'university','highschool'],  \n",
        "    size=1000,  \n",
        "     p=[0.1, 0.2, 0.5, 0.2] ) \n",
        "  return df['education']\n"
      ],
      "metadata": {
        "id": "6fatXi3qNC1L"
      },
      "execution_count": null,
      "outputs": []
    },
    {
      "cell_type": "code",
      "source": [
        "def preprocess(df):\n",
        "  df['amount'] = df['amount']*13346\n",
        "  df = df.rename(columns={'default':'TARGET'})\n",
        "  df['TARGET'].replace({2:1,1:0}, inplace=True)\n",
        "  df['employment_length'].replace({'1 - 4 yrs':'1-3_years', '> 7 yrs':'>5_years','4 - 7 yrs':'3-5_years',\n",
        "                                 '0 - 1 yrs':'0-1_years'},inplace=True)\n",
        "  df = df.astype({\"existing_credits\":'category'})\n",
        "\n",
        "  df['existing_credits'].replace({1:'1_vib_card',2:'2_vib_card', 3:'another_bank', 4:'another_bank'}, inplace=True)\n",
        "\n",
        "  df['monthly_payment'] = (df['amount']*(df['installment_rate']/1200)*(1+df['installment_rate']/1200)**(df['months_loan_duration']))/((1+df['installment_rate']/1200)**(df['months_loan_duration'])-1)\n",
        "  df['monthly_payment'] =round(df['monthly_payment'],0)\n",
        "\n",
        "  df['housing_time'] = round(df['age']/df['residence_history'],0)\n",
        "  if (df['residence_history'] == 1).any():df['housing_time']=df['age']\n",
        "\n",
        "  df['housing_time'] = housing_time(df)\n",
        "  df['Income'] = income(df)\n",
        "  df['education']  = education(df)\n",
        "  credit_vib = df[['age','education', 'dependents','personal_status','housing','housing_time','employment_length','job','existing_credits','Income','monthly_payment','TARGET']]\n",
        "  return credit_vib\n"
      ],
      "metadata": {
        "id": "b1aCvzwTMlMl"
      },
      "execution_count": null,
      "outputs": []
    },
    {
      "cell_type": "code",
      "source": [
        "def age(df):\n",
        "  conditions = [ \n",
        "              (df['age']<21) & (df['age']>=18),\n",
        "              (df['age']<30) & (df['age']>=21),\n",
        "              (df['age']>=30) & (df['age']<50),\n",
        "              (df['age']>=60) & (df['age']<60)]\n",
        "  values = [5, 6, 9, 8]\n",
        "  Scoring_board['AGE_POINT'] = np.select(conditions, values)\n",
        "  return Scoring_board['AGE_POINT']\n",
        "\n",
        "\n",
        "def education_point(df):\n",
        "  conditions = [ \n",
        "              (df['education']=='university'),\n",
        "              (df['education']=='over_university_country'),\n",
        "              (df['education']=='highschool'),\n",
        "              (df['education']=='over_university_aboard')]\n",
        "  values = [7, 8, 5, 9]\n",
        "  Scoring_board['EDU_POINT'] = np.select(conditions, values)\n",
        "  return Scoring_board['EDU_POINT']\n",
        "\n",
        "def CHILD(df):\n",
        "  conditions = [ \n",
        "              (df['dependents']==0),\n",
        "              (df['dependents']==1),\n",
        "              (df['dependents']==2),\n",
        "              (df['dependents']==3),\n",
        "              (df['dependents']>=4)]\n",
        "  values = [5, 8, 7, 6, 4]\n",
        "  Scoring_board['CHILD_POINT'] = np.select(conditions, values)\n",
        "  return Scoring_board['CHILD_POINT']\n",
        "\n",
        "def FAM_STATUS(df):\n",
        "  conditions = [ \n",
        "              (df['personal_status']=='single male'),\n",
        "              (df['personal_status']=='female'),\n",
        "              (df['personal_status']=='married male'),\n",
        "              (df['personal_status']=='divorced male')]\n",
        "  values = [7, 7, 9, 6]\n",
        "  Scoring_board['FAM_STATUS_POINT'] = np.select(conditions, values)\n",
        "  return Scoring_board['FAM_STATUS_POINT']\n",
        "\n",
        "def housing(df):\n",
        "  conditions = [ \n",
        "              (df['housing']=='own'),\n",
        "              (df['housing']=='rent'),\n",
        "              (df['housing']=='for free')]\n",
        "  values = [9, 4, 6]\n",
        "  Scoring_board['HOUSING_POINT'] = np.select(conditions, values)\n",
        "  return Scoring_board['HOUSING_POINT']\n",
        "\n",
        "def HOUSING_TIME_POINT(df):\n",
        "  conditions = [ \n",
        "              (df['housing_time']=='less_1_years'),\n",
        "              (df['housing_time']=='1-3_years'),\n",
        "              (df['housing_time']=='3-6_years'),\n",
        "              (df['housing_time']=='6-10_years'),\n",
        "              (df['housing_time']=='over_10_years')]\n",
        "  values = [6, 7, 8, 9, 10]\n",
        "  Scoring_board['HOUSING_TIME_POINT'] = np.select(conditions, values)\n",
        "  return Scoring_board['HOUSING_TIME_POINT']\n",
        "\n",
        "def EMP_length_point(df):\n",
        "  conditions = [ \n",
        "              (df['employment_length']=='1-3_years'),\n",
        "              (df['employment_length']=='>5_years'),\n",
        "              (df['employment_length']=='3-5_years'),\n",
        "              (df['employment_length']=='0-1_years'),\n",
        "              (df['employment_length']=='unemployed')]\n",
        "  values = [7, 9, 8, 6, 0]\n",
        "  Scoring_board['EMP_length_point'] = np.select(conditions, values)\n",
        "  return Scoring_board['EMP_length_point']\n",
        "\n",
        "def job_point(df):\n",
        "  conditions = [ \n",
        "              (df['job']=='mangement self-employed'),\n",
        "              (df['job']=='skilled employeet'),\n",
        "              (df['job']=='unskilled resident'),\n",
        "              (df['job']=='unemployed non-resident')]\n",
        "  values = [9, 8, 7, 0]\n",
        "  Scoring_board['job_point'] = np.select(conditions, values)\n",
        "  return Scoring_board['job_point']\n",
        "  \n",
        "def existing_credits_point(df):\n",
        "  conditions = [ \n",
        "              (df['existing_credits']=='1_vib_card'),\n",
        "              (df['existing_credits']=='2_vib_card'),\n",
        "              (df['existing_credits']=='another_bank')]\n",
        "  values = [7, 8, 6]\n",
        "  Scoring_board['existing_credits_point'] = np.select(conditions, values)\n",
        "  return Scoring_board['existing_credits_point']\n",
        "\n",
        "def Income(df):\n",
        "  conditions = [ \n",
        "              (df['Income']=='>8mill'),\n",
        "              (df['Income']=='5-8mil'),\n",
        "              (df['Income']=='3-5mil'),\n",
        "              (df['Income']=='2-3mil')]\n",
        "  values = [9, 8, 7, 5]\n",
        "  Scoring_board['Income_point'] = np.select(conditions, values)\n",
        "  return Scoring_board['Income_point']\n",
        "\n",
        "def monthly_payment_POINT(df):\n",
        "  conditions = [ \n",
        "              (df['monthly_payment']<500000),\n",
        "              (df['monthly_payment']>=500000)&(df['monthly_payment']<1000000),\n",
        "              (df['monthly_payment']>=1000000)&(df['monthly_payment']<3000000),\n",
        "              (df['monthly_payment']>=3000000)&(df['monthly_payment']<5000000),\n",
        "              (df['monthly_payment']>=5000000)]\n",
        "  values = [5, 6, 8, 9, 10]\n",
        "  Scoring_board['monthly_payment_POINT'] = np.select(conditions, values)\n",
        "  return Scoring_board['monthly_payment_POINT']\n"
      ],
      "metadata": {
        "id": "Q3kL0C9-ROm_"
      },
      "execution_count": null,
      "outputs": []
    },
    {
      "cell_type": "code",
      "source": [
        "Scoring_board = pd.DataFrame()\n",
        "def weighted_scoring(df):\n",
        "  Scoring_board['AGE_POINT'] = age(df)\n",
        "  Scoring_board['EDU_POINT'] = education_point(df)\n",
        "  Scoring_board['CHILD_POINT'] = CHILD(df)\n",
        "  Scoring_board['FAM_STATUS_POINT'] = FAM_STATUS(df)\n",
        "  Scoring_board['job_point'] = job_point(df)\n",
        "  Scoring_board['HOUSING_POINT'] = housing(df)\n",
        "  Scoring_board['HOUSING_TIME_POINT'] = HOUSING_TIME_POINT(df)\n",
        "  Scoring_board['EMP_length_point'] = EMP_length_point(df)\n",
        "  Scoring_board['existing_credits_point'] = existing_credits_point(df)\n",
        "  Scoring_board['Income_point'] = Income(df)\n",
        "  Scoring_board['monthly_payment_POINT'] = monthly_payment_POINT(df)\n",
        "  Scoring_board['credit_point'] = 0.04*Scoring_board['AGE_POINT'] + 0.05*Scoring_board['EDU_POINT'] + 0.05*Scoring_board['CHILD_POINT']+0.05*Scoring_board['FAM_STATUS_POINT']+0.15*Scoring_board['HOUSING_POINT']+0.03*Scoring_board['HOUSING_TIME_POINT']+0.04*Scoring_board['EMP_length_point']+0.05*Scoring_board['job_point']+0.05*Scoring_board['existing_credits_point']+0.35*Scoring_board['Income_point']+0.05*Scoring_board['monthly_payment_POINT']\n",
        "  return Scoring_board\n",
        "\n",
        "\n",
        "def result(Scoring_board, df) :\n",
        "  conditions = [ \n",
        "              (Scoring_board['credit_point']>7),\n",
        "              (Scoring_board['credit_point']<=7)]\n",
        "  \n",
        "  values = [0, 1]\n",
        "  df['ESTIM_TARGET'] = np.select(conditions, values)\n",
        "  df = df.groupby('TARGET', group_keys=False).apply(lambda x: x.sample(frac=0.2))\n",
        "  #plot\n",
        "  domain_fpr, domain_tpr, domain_threshold = metrics.roc_curve(df.TARGET, df.ESTIM_TARGET)\n",
        "  domain_roc_auc = metrics.auc(domain_fpr, domain_tpr)\n",
        "  a = plt.title('Receiver Operating Characteristic')\n",
        "  plt.plot(domain_fpr, domain_tpr, '^', label='domain (AUC = %0.2F)' % domain_roc_auc)\n",
        "  plt.legend(loc = 'lower right')\n",
        "  plt.plot([0, 1], [0, 1],'r--')\n",
        "  plt.xlim([0, 1])\n",
        "  plt.ylim([0, 1])\n",
        "  plt.ylabel('True Positive Rate')\n",
        "  plt.xlabel('False Positive Rate')\n",
        "  plt.show()\n",
        "  return print(classification_report(df.TARGET, df.ESTIM_TARGET)), plt\n",
        "\n",
        "\n",
        "\n",
        "  \n"
      ],
      "metadata": {
        "id": "1f-YFt5EPeRa"
      },
      "execution_count": null,
      "outputs": []
    },
    {
      "cell_type": "code",
      "source": [
        "def display(st,result):\n",
        "    # st.set_page_config(page_title='Khuyến nghị giao dịch cổ phiếu', page_icon=None,layout=\"wide\",initial_sidebar_state='auto')\n",
        "    col1 = st.beta_columns(1)\n",
        "    with col1:\n",
        "        st.plotly_chart(result)\n",
        "        st.markdown('<p style=\"font: 16px bold Georgia, serif; text-transform: uppercase; color: blue;text-align: center;\">credit</p>',unsafe_allow_html=True)\n",
        "        st.table(exportList2.assign(hack='').set_index('hack'))"
      ],
      "metadata": {
        "id": "WQOpfeIPKfrp"
      },
      "execution_count": null,
      "outputs": []
    },
    {
      "cell_type": "code",
      "source": [
        "def main():\n",
        "  result = result(weighted_scoring(preprocess(df)), preprocess(df))\n",
        "  display(st, result.plt)\n",
        "  if __name__ == \"__main__\":\n",
        "    main()"
      ],
      "metadata": {
        "id": "05LjMnSQLKiM"
      },
      "execution_count": null,
      "outputs": []
    }
  ]
}
