{
  "nbformat": 4,
  "nbformat_minor": 0,
  "metadata": {
    "colab": {
      "name": "VIB CREDIT simul.ipynb",
      "private_outputs": true,
      "provenance": [],
      "collapsed_sections": [],
      "authorship_tag": "ABX9TyMh29ty8qukLHdSqa7VNwyw",
      "include_colab_link": true
    },
    "kernelspec": {
      "name": "python3",
      "display_name": "Python 3"
    },
    "language_info": {
      "name": "python"
    }
  },
  "cells": [
    {
      "cell_type": "markdown",
      "metadata": {
        "id": "view-in-github",
        "colab_type": "text"
      },
      "source": [
        "<a href=\"https://colab.research.google.com/github/Joshpham244/VIB-credit-simul/blob/main/VIB_CREDIT_simul.ipynb\" target=\"_parent\"><img src=\"https://colab.research.google.com/assets/colab-badge.svg\" alt=\"Open In Colab\"/></a>"
      ]
    },
    {
      "cell_type": "code",
      "metadata": {
        "id": "FJ4gXnIak3h3"
      },
      "source": [
        "import pandas as pd\n",
        "import scipy as sp\n",
        "import numpy as np\n",
        "import seaborn as sns\n",
        "from sklearn.metrics import classification_report, confusion_matrix\n",
        "from statsmodels.stats.outliers_influence import variance_inflation_factor\n",
        "import matplotlib.pyplot as plt"
      ],
      "execution_count": null,
      "outputs": []
    },
    {
      "cell_type": "code",
      "metadata": {
        "id": "KGuuGRV3li9-"
      },
      "source": [
        "from google.colab import drive\n",
        "drive.mount('/content/drive')"
      ],
      "execution_count": null,
      "outputs": []
    },
    {
      "cell_type": "code",
      "metadata": {
        "id": "YXXv3znwljZe"
      },
      "source": [
        "cd /content/drive/My Drive"
      ],
      "execution_count": null,
      "outputs": []
    },
    {
      "cell_type": "code",
      "metadata": {
        "id": "Yab2LCtOk8B4"
      },
      "source": [
        "df= pd.read_csv('/content/drive/MyDrive/newdata/credit.csv')"
      ],
      "execution_count": null,
      "outputs": []
    },
    {
      "cell_type": "code",
      "metadata": {
        "id": "UodIeUDElxAe"
      },
      "source": [
        "df.info()"
      ],
      "execution_count": null,
      "outputs": []
    },
    {
      "cell_type": "code",
      "source": [
        "df.head()"
      ],
      "metadata": {
        "id": "4EYC1lo3UqsS"
      },
      "execution_count": null,
      "outputs": []
    },
    {
      "cell_type": "code",
      "source": [
        "df['amount'] = df['amount']*13346"
      ],
      "metadata": {
        "id": "aeTgG58rQ-Ii"
      },
      "execution_count": null,
      "outputs": []
    },
    {
      "cell_type": "code",
      "metadata": {
        "id": "WT6VESEZm7tn"
      },
      "source": [
        "df['default'].value_counts()"
      ],
      "execution_count": null,
      "outputs": []
    },
    {
      "cell_type": "code",
      "metadata": {
        "id": "zF_IyRn9nNMu"
      },
      "source": [
        "df = df.rename(columns={'default':'TARGET'})"
      ],
      "execution_count": null,
      "outputs": []
    },
    {
      "cell_type": "code",
      "metadata": {
        "id": "wa3npuTtoDGe"
      },
      "source": [
        "df['TARGET'].replace({2:1,1:0}, inplace=True)"
      ],
      "execution_count": null,
      "outputs": []
    },
    {
      "cell_type": "code",
      "metadata": {
        "id": "UKply0v6lyUG"
      },
      "source": [
        "df.head()\n",
        "#Deutsche Mark currency\n"
      ],
      "execution_count": null,
      "outputs": []
    },
    {
      "cell_type": "code",
      "source": [
        "df['job'].value_counts()"
      ],
      "metadata": {
        "id": "s1asILpOmtHx"
      },
      "execution_count": null,
      "outputs": []
    },
    {
      "cell_type": "code",
      "source": [
        "df['property'].value_counts()"
      ],
      "metadata": {
        "id": "KkDLCoDPnc8V"
      },
      "execution_count": null,
      "outputs": []
    },
    {
      "cell_type": "code",
      "source": [
        "df['personal_status'].value_counts()"
      ],
      "metadata": {
        "id": "osSkM-AsvGrk"
      },
      "execution_count": null,
      "outputs": []
    },
    {
      "cell_type": "code",
      "source": [
        "df['credit_history'].value_counts()"
      ],
      "metadata": {
        "id": "kaKySxcRv2Py"
      },
      "execution_count": null,
      "outputs": []
    },
    {
      "cell_type": "code",
      "source": [
        "df['purpose'].value_counts()"
      ],
      "metadata": {
        "id": "4eCqwIYiwKsl"
      },
      "execution_count": null,
      "outputs": []
    },
    {
      "cell_type": "code",
      "source": [
        "df['housing'].value_counts()"
      ],
      "metadata": {
        "id": "scQhhhApxj2S"
      },
      "execution_count": null,
      "outputs": []
    },
    {
      "cell_type": "code",
      "source": [
        "df['existing_credits'].value_counts()"
      ],
      "metadata": {
        "id": "YTxgsCkm2p7A"
      },
      "execution_count": null,
      "outputs": []
    },
    {
      "cell_type": "code",
      "source": [
        "df['employment_length'].value_counts()"
      ],
      "metadata": {
        "id": "0jhW4___4jhb"
      },
      "execution_count": null,
      "outputs": []
    },
    {
      "cell_type": "code",
      "source": [
        "df['property'].value_counts()"
      ],
      "metadata": {
        "id": "L7FdeHElvIcN"
      },
      "execution_count": null,
      "outputs": []
    },
    {
      "cell_type": "code",
      "metadata": {
        "id": "apQjEtK3MTiN"
      },
      "source": [
        "def chi2_by_hand(df, col1, col2):    \n",
        "    #---create the contingency table---\n",
        "    df_cont = pd.crosstab(index = df[col1], columns = df[col2])\n",
        "    display(df_cont)\n",
        "    #---calculate degree of freedom---\n",
        "    degree_f = (df_cont.shape[0]-1) * (df_cont.shape[1]-1)\n",
        "    #---sum up the totals for row and columns---\n",
        "    df_cont.loc[:,'Total']= df_cont.sum(axis=1)\n",
        "    df_cont.loc['Total']= df_cont.sum()\n",
        "    print('---Observed (O)---')\n",
        "    display(df_cont)\n",
        "    #---create the expected value dataframe---\n",
        "    df_exp = df_cont.copy()    \n",
        "    df_exp.iloc[:,:] = np.multiply.outer(df_cont.sum(1).values,df_cont.sum().values) / df_cont.sum().sum()            \n",
        "    print('---Expected (E)---')\n",
        "    display(df_exp)\n",
        "        \n",
        "    # calculate chi-square values\n",
        "    df_chi2 = ((df_cont - df_exp)**2) / df_exp    \n",
        "    df_chi2.loc[:,'Total']= df_chi2.sum(axis=1)\n",
        "    df_chi2.loc['Total']= df_chi2.sum()\n",
        "    \n",
        "    print('---Chi-Square---')\n",
        "    display(df_chi2)\n",
        "    #---get chi-square score---   \n",
        "    chi_square_score = df_chi2.iloc[:-1,:-1].sum().sum()\n",
        "     #---calculate the p-value---\n",
        "    from scipy import stats\n",
        "    p = stats.distributions.chi2.sf(chi_square_score, degree_f)\n",
        "    return chi_square_score, degree_f, p"
      ],
      "execution_count": null,
      "outputs": []
    },
    {
      "cell_type": "code",
      "source": [
        "chi2_by_hand(df, 'property', 'personal_status')"
      ],
      "metadata": {
        "id": "CH3Nmg7PvnRw"
      },
      "execution_count": null,
      "outputs": []
    },
    {
      "cell_type": "code",
      "source": [
        ""
      ],
      "metadata": {
        "id": "1Zpi0A5PwgXk"
      },
      "execution_count": null,
      "outputs": []
    },
    {
      "cell_type": "code",
      "source": [
        "df['employment_length'].replace({'1 - 4 yrs':'1-3_years', '> 7 yrs':'>5_years','4 - 7 yrs':'3-5_years',\n",
        "                                 '0 - 1 yrs':'0-1_years'},inplace=True)"
      ],
      "metadata": {
        "id": "giOGQhGzetik"
      },
      "execution_count": null,
      "outputs": []
    },
    {
      "cell_type": "code",
      "source": [
        "df['employment_length'].value_counts()"
      ],
      "metadata": {
        "id": "q2QfmqbFdUZW"
      },
      "execution_count": null,
      "outputs": []
    },
    {
      "cell_type": "code",
      "source": [
        ""
      ],
      "metadata": {
        "id": "J1xUg8xjhw2u"
      },
      "execution_count": null,
      "outputs": []
    },
    {
      "cell_type": "code",
      "source": [
        "plt.figure(figsize=(20,8))\n",
        "\n",
        "plt.subplot(1,2,2)\n",
        "plt.title('Personal age and employment_length')\n",
        "sns.boxplot(x=df.employment_length, y=df.age, palette=(\"cubehelix\"))\n",
        "\n",
        "plt.show()"
      ],
      "metadata": {
        "id": "lQUkrL7shxQ1"
      },
      "execution_count": null,
      "outputs": []
    },
    {
      "cell_type": "code",
      "source": [
        "df = df.astype({\"existing_credits\":'category'})\n",
        "\n",
        "df['existing_credits'].replace({1:'1_vib_card',2:'2_vib_card', 3:'another_bank', 4:'another_bank'}, inplace=True)"
      ],
      "metadata": {
        "id": "uSI4PON-f_Pi"
      },
      "execution_count": null,
      "outputs": []
    },
    {
      "cell_type": "code",
      "source": [
        "df['dependents'].value_counts()"
      ],
      "metadata": {
        "id": "7ngo7XvaHNJD"
      },
      "execution_count": null,
      "outputs": []
    },
    {
      "cell_type": "code",
      "source": [
        "df['installment_rate']"
      ],
      "metadata": {
        "id": "kIJo9lUZo99k"
      },
      "execution_count": null,
      "outputs": []
    },
    {
      "cell_type": "code",
      "source": [
        "df['credit_history'].value_counts()"
      ],
      "metadata": {
        "id": "Xmphs6_y0mB9"
      },
      "execution_count": null,
      "outputs": []
    },
    {
      "cell_type": "code",
      "source": [
        "df['monthly_payment'] = (df['amount']*(df['installment_rate']/1200)*(1+df['installment_rate']/1200)**(df['months_loan_duration']))/((1+df['installment_rate']/1200)**(df['months_loan_duration'])-1)"
      ],
      "metadata": {
        "id": "CRKwS8tihvAC"
      },
      "execution_count": null,
      "outputs": []
    },
    {
      "cell_type": "code",
      "source": [
        "df['monthly_payment'] =round(df['monthly_payment'],0)"
      ],
      "metadata": {
        "id": "5g2srvC-SIID"
      },
      "execution_count": null,
      "outputs": []
    },
    {
      "cell_type": "code",
      "source": [
        "df['monthly_payment']"
      ],
      "metadata": {
        "id": "vlbeIrtoWOuF"
      },
      "execution_count": null,
      "outputs": []
    },
    {
      "cell_type": "code",
      "source": [
        "df['monthly_payment'].describe()"
      ],
      "metadata": {
        "id": "CZA_ch-AVX46"
      },
      "execution_count": null,
      "outputs": []
    },
    {
      "cell_type": "code",
      "source": [
        "df['monthly_payment'].hist()"
      ],
      "metadata": {
        "id": "y67cOgj2kftM"
      },
      "execution_count": null,
      "outputs": []
    },
    {
      "cell_type": "code",
      "source": [
        "df['housing_time'] = round(df['age']/df['residence_history'],0)\n"
      ],
      "metadata": {
        "id": "3Huv0mtooCNe"
      },
      "execution_count": null,
      "outputs": []
    },
    {
      "cell_type": "code",
      "source": [
        "#moc hoc dai hoc 18-20 , moc tot nghiep 22-24, mốc get married (Đức)trung bình tuổi (31,5 nữ / 34,5 nam) ,  tầm tuổi trung niên(2-3 năm sau khi)\n",
        "#xét thêm theo số lần di chuyển\n",
        "#50 tuổi có ng phụ thuộc cao hơn 7 năm (nữ > 31, nam >41)\n",
        "#25 tuổi tốt nghiệp đại học (ví dụ 30 tuổi -25 tuổi)\n"
      ],
      "metadata": {
        "id": "tmfyoMIVGksS"
      },
      "execution_count": null,
      "outputs": []
    },
    {
      "cell_type": "code",
      "source": [
        "df['residence_history'].describe()"
      ],
      "metadata": {
        "id": "90bJZlnoHnvi"
      },
      "execution_count": null,
      "outputs": []
    },
    {
      "cell_type": "code",
      "source": [
        "df['age'].describe()"
      ],
      "metadata": {
        "id": "v90QgdMwy_nA"
      },
      "execution_count": null,
      "outputs": []
    },
    {
      "cell_type": "code",
      "source": [
        "df['age'].hist()"
      ],
      "metadata": {
        "id": "sJBqoDcrzP8q"
      },
      "execution_count": null,
      "outputs": []
    },
    {
      "cell_type": "code",
      "source": [
        "sns.regplot(x=df[\"age\"], y=df[\"residence_history\"],order=3, line_kws={\"color\":\"orange\"})"
      ],
      "metadata": {
        "id": "VOShFJxKzctd"
      },
      "execution_count": null,
      "outputs": []
    },
    {
      "cell_type": "code",
      "source": [
        "plt.figure(figsize=(20,8))\n",
        "\n",
        "plt.subplot(1,2,2)\n",
        "plt.title('age vs residence history')\n",
        "sns.boxplot(x=df.residence_history, y=df.age, palette=(\"cubehelix\"))\n",
        "\n",
        "plt.show()"
      ],
      "metadata": {
        "id": "Bn9Lj-uRaE87"
      },
      "execution_count": null,
      "outputs": []
    },
    {
      "cell_type": "code",
      "source": [
        "if (df['residence_history'] == 1).any():df['housing_time']=df['age'] \n"
      ],
      "metadata": {
        "id": "i9SVON_u3UXX"
      },
      "execution_count": null,
      "outputs": []
    },
    {
      "cell_type": "code",
      "source": [
        "condition = [\n",
        "             (df['age']<20),#Less than 1 year\n",
        "             (df['age']>=20)&(df['age']<24), #1-3 years\n",
        "             (df['age']>=24)&(df['age']<35),#3-6 years\n",
        "             (df['age']>=35)&(df['age']<50),#6-10 years\n",
        "             (df['age']>=50)#over 10 years\n",
        "]\n",
        "choice =['less_1_years', '1-3_years','3-6_years','6-10_years','over_10_years']\n",
        "df['housing_time'] = np.select(condition, choice)"
      ],
      "metadata": {
        "id": "jql-KhSVTvNf"
      },
      "execution_count": null,
      "outputs": []
    },
    {
      "cell_type": "code",
      "source": [
        "df['housing_time'].describe()"
      ],
      "metadata": {
        "id": "WTaGtdNiUWqM"
      },
      "execution_count": null,
      "outputs": []
    },
    {
      "cell_type": "code",
      "source": [
        "df['housing_time'].describe()"
      ],
      "metadata": {
        "id": "AJy1xDtqGI74"
      },
      "execution_count": null,
      "outputs": []
    },
    {
      "cell_type": "code",
      "source": [
        "df['housing_time'].value_counts()"
      ],
      "metadata": {
        "id": "maTG1mvY5nrF"
      },
      "execution_count": null,
      "outputs": []
    },
    {
      "cell_type": "code",
      "source": [
        "df['housing_time'].hist()"
      ],
      "metadata": {
        "id": "_pXPVF5GwXNL"
      },
      "execution_count": null,
      "outputs": []
    },
    {
      "cell_type": "code",
      "source": [
        "df['age'].hist()"
      ],
      "metadata": {
        "id": "3BbsyHH61UcK"
      },
      "execution_count": null,
      "outputs": []
    },
    {
      "cell_type": "code",
      "source": [
        "plt.figure(figsize=(20,8))\n",
        "\n",
        "plt.subplot(1,2,2)\n",
        "plt.title('age vs child')\n",
        "sns.boxplot(x=df.dependents, y=df.age, palette=(\"cubehelix\"))\n",
        "\n",
        "plt.show()"
      ],
      "metadata": {
        "id": "KNKaY9DCU1YC"
      },
      "execution_count": null,
      "outputs": []
    },
    {
      "cell_type": "code",
      "source": [
        ""
      ],
      "metadata": {
        "id": "8VZ_1nped5II"
      },
      "execution_count": null,
      "outputs": []
    },
    {
      "cell_type": "code",
      "source": [
        "theta = df[['age','residence_history']]"
      ],
      "metadata": {
        "id": "sB5NtTgt2yCN"
      },
      "execution_count": null,
      "outputs": []
    },
    {
      "cell_type": "code",
      "source": [
        ""
      ],
      "metadata": {
        "id": "-BFWyY623g89"
      },
      "execution_count": null,
      "outputs": []
    },
    {
      "cell_type": "code",
      "source": [
        "df['residence_history'].hist()"
      ],
      "metadata": {
        "id": "bpNz2xByyxLa"
      },
      "execution_count": null,
      "outputs": []
    },
    {
      "cell_type": "code",
      "source": [
        "df['housing_time'].hist()"
      ],
      "metadata": {
        "id": "joaVSfKuGQDr"
      },
      "execution_count": null,
      "outputs": []
    },
    {
      "cell_type": "code",
      "source": [
        "df.head()"
      ],
      "metadata": {
        "id": "ilOXiIRimXG5"
      },
      "execution_count": null,
      "outputs": []
    },
    {
      "cell_type": "code",
      "metadata": {
        "id": "iSQJah8TmNMG"
      },
      "source": [
        "def plot_kde_hist_var(df,varList,calcStat = True, drawAll = False):\n",
        "    numVar = len(varList)\n",
        "\n",
        "    plt.figure(figsize=(10,numVar*4))\n",
        "    ks_stat_list = []\n",
        "    ks_pval_list = []\n",
        "    try:\n",
        "        for i,var in enumerate(varList):\n",
        "            tgt_true = df.loc[df['TARGET']==1,var]\n",
        "            tgt_false = df.loc[df['TARGET']==0,var]\n",
        "\n",
        "            # calculate statistical significance between both populations\n",
        "            if calcStat == True:\n",
        "                (ks_stat,ks_pval)= sp.stats.ks_2samp(tgt_true,tgt_false)\n",
        "                ks_stat_list.append(ks_stat)\n",
        "                ks_pval_list.append(ks_pval)\n",
        "                ks_hval_list = [True for hyp in ks_pval_list if hyp<0.05]\n",
        "\n",
        "            #\n",
        "            median_tgt_true = tgt_true.median()\n",
        "            median_tgt_false = tgt_false.median()\n",
        "            corrVal = df['TARGET'].corr(df[var])\n",
        "            print('Median Value of {} when Target (True): {:.6f}'.format(var,median_tgt_true))\n",
        "            print('Median Value of {} when Target (False): {:.6f}'.format(var,median_tgt_false))\n",
        "            print('Pearson Correlation of {} with Target (True): {:.6f}'.format(var,corrVal))\n",
        "\n",
        "            # drawing KDE distributions\n",
        "            tgt_true.dropna(inplace=True) # require to dropna for sns.distplot function\n",
        "            tgt_false.dropna(inplace=True)\n",
        "            plt.subplot(numVar,1,i+1)\n",
        "            sns.distplot(tgt_true,rug=drawAll,kde=drawAll,label='Target: True')\n",
        "            sns.distplot(tgt_false,rug=drawAll,kde=drawAll,label='Target: False')\n",
        "            plt.legend()\n",
        "            #plt.title(var)\n",
        "    except TypeError as error:\n",
        "        print(error)\n",
        "        print('Features are objects.  Need ints/floats')\n",
        "\n",
        "    return ks_hval_list, ks_pval_list"
      ],
      "execution_count": null,
      "outputs": []
    },
    {
      "cell_type": "code",
      "metadata": {
        "id": "E51JW5xTl10X"
      },
      "source": [
        "df.describe()"
      ],
      "execution_count": null,
      "outputs": []
    },
    {
      "cell_type": "code",
      "metadata": {
        "id": "sU0g-uEapY62"
      },
      "source": [
        "var_list=['months_loan_duration','amount','installment_rate','residence_history','age','existing_credits']"
      ],
      "execution_count": null,
      "outputs": []
    },
    {
      "cell_type": "code",
      "metadata": {
        "id": "JBmw_LSapL-H"
      },
      "source": [
        "hVal_list,pVal_list= plot_kde_hist_var(df,var_list)"
      ],
      "execution_count": null,
      "outputs": []
    },
    {
      "cell_type": "code",
      "metadata": {
        "id": "7yEBom2KqUAv"
      },
      "source": [
        "df['job'].value_counts()"
      ],
      "execution_count": null,
      "outputs": []
    },
    {
      "cell_type": "code",
      "metadata": {
        "id": "yzxKRbh5qY63"
      },
      "source": [
        "df_ext_src_corr1 = df[var_list].corr()\n",
        "fig, ax = plt.subplots(figsize=(10,10))         # Sample figsize in inches\n",
        "sns.heatmap(df_ext_src_corr1,vmin=-1.0,vmax=1.0,annot=True,ax= ax, linewidths=.5)"
      ],
      "execution_count": null,
      "outputs": []
    },
    {
      "cell_type": "code",
      "metadata": {
        "id": "NffWmGwp1JpI"
      },
      "source": [
        "ax = sns.scatterplot(x=\"months_loan_duration\", y=\"amount\", data=df)\n",
        "ax.set_title(\"Concrete months loan duration vs amount\")\n",
        "ax.set_xlabel(\"months_loan_duration\");"
      ],
      "execution_count": null,
      "outputs": []
    },
    {
      "cell_type": "code",
      "metadata": {
        "id": "gbpOlhbp26zh"
      },
      "source": [
        "sns.regplot(x=df[\"months_loan_duration\"], y=df[\"amount\"],order=3, line_kws={\"color\":\"orange\"})"
      ],
      "execution_count": null,
      "outputs": []
    },
    {
      "cell_type": "code",
      "source": [
        ""
      ],
      "metadata": {
        "id": "P1QQomQ1uGX1"
      },
      "execution_count": null,
      "outputs": []
    },
    {
      "cell_type": "code",
      "metadata": {
        "id": "dJaSYOl8LOfI"
      },
      "source": [
        "plt.figure(figsize=(20,8))\n",
        "\n",
        "plt.subplot(1,2,2)\n",
        "plt.title('age vs job')\n",
        "sns.boxplot(x=df.job, y=df.age, palette=(\"cubehelix\"))\n",
        "\n",
        "plt.show()"
      ],
      "execution_count": null,
      "outputs": []
    },
    {
      "cell_type": "code",
      "source": [
        "chi2_by_hand(df, 'credit_history', 'job')"
      ],
      "metadata": {
        "id": "RalNWL5mERAC"
      },
      "execution_count": null,
      "outputs": []
    },
    {
      "cell_type": "code",
      "metadata": {
        "id": "IJYTm9-5MjHD"
      },
      "source": [
        "chi2_by_hand(df, 'purpose', 'job')"
      ],
      "execution_count": null,
      "outputs": []
    },
    {
      "cell_type": "code",
      "metadata": {
        "id": "6hKdWk9jMi_q"
      },
      "source": [
        "df = df.drop(columns='purpose')"
      ],
      "execution_count": null,
      "outputs": []
    },
    {
      "cell_type": "code",
      "metadata": {
        "id": "bz0IIHBiUsX5"
      },
      "source": [
        "df.head()"
      ],
      "execution_count": null,
      "outputs": []
    },
    {
      "cell_type": "code",
      "source": [
        "df.shape\n"
      ],
      "metadata": {
        "id": "2WWz3HA1O5KB"
      },
      "execution_count": null,
      "outputs": []
    },
    {
      "cell_type": "code",
      "source": [
        ""
      ],
      "metadata": {
        "id": "reHjoPNvIz_C"
      },
      "execution_count": null,
      "outputs": []
    },
    {
      "cell_type": "code",
      "metadata": {
        "id": "wLb0s2B3---C"
      },
      "source": [
        "conditions = [ \n",
        "              (df['job']=='skilled employee') ,\n",
        "              (df['job']=='unskilled resident') ,\n",
        "              (df['job']=='mangement self-employed') ,(df['job']=='unemployed non-resident')\n",
        "]\n",
        "values = ['>8mill','5-8mil','3-5mil','2-3mil']\n",
        "      \n",
        "df['Income'] = np.select(conditions, values)\n",
        "df.head()\n",
        "      "
      ],
      "execution_count": null,
      "outputs": []
    },
    {
      "cell_type": "code",
      "source": [
        "np.random.seed(445)\n",
        "df['education'] = np.random.choice(  \n",
        "     a=['over_university_aboard', 'over_university_country', 'university','highschool'],  \n",
        "    size=1000,  \n",
        "     p=[0.1, 0.2, 0.5, 0.2] )  "
      ],
      "metadata": {
        "id": "rGSo9WVLNwyp"
      },
      "execution_count": null,
      "outputs": []
    },
    {
      "cell_type": "code",
      "source": [
        "df.head()"
      ],
      "metadata": {
        "id": "4mzXuce9O9w3"
      },
      "execution_count": null,
      "outputs": []
    },
    {
      "cell_type": "code",
      "source": [
        "df.columns"
      ],
      "metadata": {
        "id": "PX9Gg2hrXWBV"
      },
      "execution_count": null,
      "outputs": []
    },
    {
      "cell_type": "code",
      "source": [
        "credit_vib = df[['age','education', 'dependents','personal_status','housing','housing_time','employment_length','job','existing_credits','Income','monthly_payment','TARGET']]\n",
        "credit_vib.head()"
      ],
      "metadata": {
        "id": "H7fVq7a3PAgz"
      },
      "execution_count": null,
      "outputs": []
    },
    {
      "cell_type": "code",
      "source": [
        "credit_vib['Income'].value_counts()"
      ],
      "metadata": {
        "id": "AWVkimGCNyyy"
      },
      "execution_count": null,
      "outputs": []
    },
    {
      "cell_type": "markdown",
      "source": [
        "\n",
        "# Scoring by domain"
      ],
      "metadata": {
        "id": "qKHR4A3Ea_LH"
      }
    },
    {
      "cell_type": "code",
      "source": [
        "Scoring_board = pd.DataFrame()"
      ],
      "metadata": {
        "id": "SpC9ZLzPa5BO"
      },
      "execution_count": null,
      "outputs": []
    },
    {
      "cell_type": "code",
      "source": [
        "conditions = [ \n",
        "              (df['age']<21) & (df['age']>=18),\n",
        "              (df['age']<30) & (df['age']>=21),\n",
        "              (df['age']>=30) & (df['age']<50),\n",
        "              (df['age']>=60) & (df['age']<60)\n",
        "]\n",
        "values = [5, 6, 9, 8]\n",
        "Scoring_board['AGE_POINT'] = np.select(conditions, values)\n",
        "Scoring_board.head()\n",
        "del conditions, values"
      ],
      "metadata": {
        "id": "W6tR8TOTbl0j"
      },
      "execution_count": null,
      "outputs": []
    },
    {
      "cell_type": "code",
      "source": [
        "conditions = [ \n",
        "              (df['education']=='university'),\n",
        "              (df['education']=='over_university_country'),\n",
        "              (df['education']=='highschool'),\n",
        "              (df['education']=='over_university_aboard')\n",
        "]\n",
        "values = [7, 8, 5, 9]\n",
        "      \n",
        "Scoring_board['EDU_POINT'] = np.select(conditions, values)\n",
        "Scoring_board.head()\n",
        "del conditions, values"
      ],
      "metadata": {
        "id": "y_vFtXeQb-o8"
      },
      "execution_count": null,
      "outputs": []
    },
    {
      "cell_type": "code",
      "source": [
        "conditions = [ \n",
        "              (df['dependents']==0),\n",
        "              (df['dependents']==1),\n",
        "              (df['dependents']==2),\n",
        "              (df['dependents']==3),\n",
        "              (df['dependents']>=4)\n",
        "]\n",
        "values = [5, 8, 7, 6, 4]\n",
        "      \n",
        "Scoring_board['CHILD_POINT'] = np.select(conditions, values)\n",
        "Scoring_board.head()\n",
        "del conditions, values"
      ],
      "metadata": {
        "id": "7va6JZYSchkI"
      },
      "execution_count": null,
      "outputs": []
    },
    {
      "cell_type": "code",
      "source": [
        "conditions = [ \n",
        "              (df['personal_status']=='single male'),\n",
        "              (df['personal_status']=='female'),\n",
        "              (df['personal_status']=='married male'),\n",
        "              (df['personal_status']=='divorced male')\n",
        "]\n",
        "values = [7, 7, 9, 6]\n",
        "      \n",
        "Scoring_board['FAM_STATUS_POINT'] = np.select(conditions, values)\n",
        "Scoring_board.head()\n",
        "del conditions, values"
      ],
      "metadata": {
        "id": "mQvDH7AzdaeY"
      },
      "execution_count": null,
      "outputs": []
    },
    {
      "cell_type": "code",
      "source": [
        "df['housing'].value_counts()"
      ],
      "metadata": {
        "id": "Qq4hBLusde_P"
      },
      "execution_count": null,
      "outputs": []
    },
    {
      "cell_type": "code",
      "source": [
        "conditions = [ \n",
        "              (df['housing']=='own'),\n",
        "              (df['housing']=='rent'),\n",
        "              (df['housing']=='for free'),\n",
        "]\n",
        "values = [9, 4, 6]\n",
        "      \n",
        "Scoring_board['HOUSING_POINT'] = np.select(conditions, values)\n",
        "Scoring_board.head()\n",
        "del conditions, values"
      ],
      "metadata": {
        "id": "-52Z-IVsd-Q8"
      },
      "execution_count": null,
      "outputs": []
    },
    {
      "cell_type": "code",
      "source": [
        "df['housing_time'].value_counts()"
      ],
      "metadata": {
        "id": "NHIrBZzDKzFj"
      },
      "execution_count": null,
      "outputs": []
    },
    {
      "cell_type": "code",
      "source": [
        "conditions = [ \n",
        "              (df['housing_time']=='less_1_years'),\n",
        "              (df['housing_time']=='1-3_years'),\n",
        "              (df['housing_time']=='3-6_years'),\n",
        "              (df['housing_time']=='6-10_years'),\n",
        "              (df['housing_time']=='over_10_years')\n",
        "]\n",
        "values = [6, 7, 8, 9, 10]\n",
        "      \n",
        "Scoring_board['HOUSING_TIME_POINT'] = np.select(conditions, values)\n",
        "Scoring_board.head()\n",
        "del conditions, values"
      ],
      "metadata": {
        "id": "Bh53z3RTecQp"
      },
      "execution_count": null,
      "outputs": []
    },
    {
      "cell_type": "code",
      "source": [
        "conditions = [ \n",
        "              (df['employment_length']=='1-3_years'),\n",
        "              (df['employment_length']=='>5_years'),\n",
        "              (df['employment_length']=='3-5_years'),\n",
        "              (df['employment_length']=='0-1_years'),\n",
        "              (df['employment_length']=='unemployed')\n",
        "]\n",
        "values = [7, 9, 8, 6, 0]\n",
        "      \n",
        "Scoring_board['EMP_length_point'] = np.select(conditions, values)\n",
        "Scoring_board.head()\n",
        "del conditions, values"
      ],
      "metadata": {
        "id": "zAXGXQELfiA-"
      },
      "execution_count": null,
      "outputs": []
    },
    {
      "cell_type": "code",
      "source": [
        "conditions = [ \n",
        "              (df['job']=='mangement self-employed'),\n",
        "              (df['job']=='skilled employeet'),\n",
        "              (df['job']=='unskilled resident'),\n",
        "              (df['job']=='unemployed non-resident')\n",
        "]\n",
        "values = [9, 8, 7, 0]\n",
        "      \n",
        "Scoring_board['job_point'] = np.select(conditions, values)\n",
        "Scoring_board.head()\n",
        "del conditions, values"
      ],
      "metadata": {
        "id": "QhruqKNRgqWq"
      },
      "execution_count": null,
      "outputs": []
    },
    {
      "cell_type": "code",
      "source": [
        "conditions = [ \n",
        "              (df['existing_credits']=='1_vib_card'),\n",
        "              (df['existing_credits']=='2_vib_card'),\n",
        "              (df['existing_credits']=='another_bank')\n",
        "]\n",
        "values = [7, 8, 6]\n",
        "      \n",
        "Scoring_board['existing_credits_point'] = np.select(conditions, values)\n",
        "Scoring_board.head()\n",
        "del conditions, values"
      ],
      "metadata": {
        "id": "yoOKjUurinyk"
      },
      "execution_count": null,
      "outputs": []
    },
    {
      "cell_type": "code",
      "source": [
        "conditions = [ \n",
        "              (df['Income']=='>8mill'),\n",
        "              (df['Income']=='5-8mil'),\n",
        "              (df['Income']=='3-5mil'),\n",
        "              (df['Income']=='2-3mil')\n",
        "]\n",
        "values = [9, 8, 7, 5]\n",
        "      \n",
        "Scoring_board['Income_point'] = np.select(conditions, values)\n",
        "Scoring_board.head()\n",
        "del conditions, values"
      ],
      "metadata": {
        "id": "y0eUqP1lj242"
      },
      "execution_count": null,
      "outputs": []
    },
    {
      "cell_type": "code",
      "source": [
        "conditions = [ \n",
        "              (df['monthly_payment']<500000),\n",
        "              (df['monthly_payment']>=500000)&(df['monthly_payment']<1000000),\n",
        "              (df['monthly_payment']>=1000000)&(df['monthly_payment']<3000000),\n",
        "              (df['monthly_payment']>=3000000)&(df['monthly_payment']<5000000),\n",
        "              (df['monthly_payment']>=5000000)\n",
        "]\n",
        "values = [5, 6, 8, 9, 10]\n",
        "      \n",
        "Scoring_board['monthly_payment_POINT'] = np.select(conditions, values)\n",
        "Scoring_board.head()\n",
        "del conditions, values"
      ],
      "metadata": {
        "id": "sLsML6prkWFG"
      },
      "execution_count": null,
      "outputs": []
    },
    {
      "cell_type": "code",
      "source": [
        "Scoring_board.head()"
      ],
      "metadata": {
        "id": "ZDAt5VGwlUwt"
      },
      "execution_count": null,
      "outputs": []
    },
    {
      "cell_type": "code",
      "source": [
        "Scoring_board.columns"
      ],
      "metadata": {
        "id": "4R_AXrKmmLgg"
      },
      "execution_count": null,
      "outputs": []
    },
    {
      "cell_type": "code",
      "source": [
        "Scoring_board['credit_point'] = 0.04*Scoring_board['AGE_POINT'] + 0.05*Scoring_board['EDU_POINT'] + 0.05*Scoring_board['CHILD_POINT']+0.05*Scoring_board['FAM_STATUS_POINT']+0.15*Scoring_board['HOUSING_POINT']+0.03*Scoring_board['HOUSING_TIME_POINT']+0.04*Scoring_board['EMP_length_point']+0.05*Scoring_board['job_point']+0.05*Scoring_board['existing_credits_point']+0.35*Scoring_board['Income_point']+0.05*Scoring_board['monthly_payment_POINT']\n",
        "                                 "
      ],
      "metadata": {
        "id": "en_lmUR6lW9Q"
      },
      "execution_count": null,
      "outputs": []
    },
    {
      "cell_type": "code",
      "source": [
        "Scoring_board['credit_point'].hist()"
      ],
      "metadata": {
        "id": "eSiBuLlYpYJj"
      },
      "execution_count": null,
      "outputs": []
    },
    {
      "cell_type": "code",
      "source": [
        "Scoring_board['credit_point'].describe()"
      ],
      "metadata": {
        "id": "z0qYhbdRpcbR"
      },
      "execution_count": null,
      "outputs": []
    },
    {
      "cell_type": "code",
      "source": [
        "df['credit_point'] = Scoring_board['credit_point']"
      ],
      "metadata": {
        "id": "Guck9RinI3S9"
      },
      "execution_count": null,
      "outputs": []
    },
    {
      "cell_type": "code",
      "source": [
        "df['TARGET']"
      ],
      "metadata": {
        "id": "SJQf0ODFJNOa"
      },
      "execution_count": null,
      "outputs": []
    },
    {
      "cell_type": "code",
      "source": [
        "var_list1 = ['credit_point']\n",
        "#varList = df.columns[41:56].values\n",
        "hVal_list,pVal_list= plot_kde_hist_var(df,var_list1)"
      ],
      "metadata": {
        "id": "nrGIxJnCInwz"
      },
      "execution_count": null,
      "outputs": []
    },
    {
      "cell_type": "code",
      "source": [
        "conditions = [ \n",
        "              (Scoring_board['credit_point']>7),\n",
        "              (Scoring_board['credit_point']<=7)\n",
        "              \n",
        "]\n",
        "values = [0, 1]\n",
        "      \n",
        "df['ESTIM_TARGET'] = np.select(conditions, values)\n",
        "df.head()\n",
        "del conditions, values"
      ],
      "metadata": {
        "id": "wRc03u9apppB"
      },
      "execution_count": null,
      "outputs": []
    },
    {
      "cell_type": "code",
      "source": [
        "df.ESTIM_TARGET.value_counts()"
      ],
      "metadata": {
        "id": "zx3CzHamq-5T"
      },
      "execution_count": null,
      "outputs": []
    },
    {
      "cell_type": "code",
      "source": [
        "df = df.groupby('TARGET', group_keys=False).apply(lambda x: x.sample(frac=0.2))"
      ],
      "metadata": {
        "id": "ivNzxhxNMjKu"
      },
      "execution_count": null,
      "outputs": []
    },
    {
      "cell_type": "code",
      "source": [
        "from sklearn.metrics import classification_report\n",
        "import sklearn.metrics as metrics\n",
        "print(classification_report(df.TARGET, df.ESTIM_TARGET))"
      ],
      "metadata": {
        "id": "gNVU8FUcrDGb"
      },
      "execution_count": null,
      "outputs": []
    },
    {
      "cell_type": "code",
      "source": [
        "domain_fpr, domain_tpr, domain_threshold = metrics.roc_curve(df.TARGET, df.ESTIM_TARGET)\n",
        "domain_roc_auc = metrics.auc(domain_fpr, domain_tpr)\n",
        "\n",
        "import matplotlib.pyplot as plt\n",
        "plt.title('Receiver Operating Characteristic')\n",
        "plt.plot(domain_fpr, domain_tpr, '^', label='domain (AUC = %0.2F)' % domain_roc_auc)\n",
        "plt.legend(loc = 'lower right')\n",
        "plt.plot([0, 1], [0, 1],'r--')\n",
        "plt.xlim([0, 1])\n",
        "plt.ylim([0, 1])\n",
        "plt.ylabel('True Positive Rate')\n",
        "plt.xlabel('False Positive Rate')\n",
        "plt.show()"
      ],
      "metadata": {
        "id": "sV5Hm5EsrLar"
      },
      "execution_count": null,
      "outputs": []
    },
    {
      "cell_type": "markdown",
      "source": [
        "# Machine learing scoring"
      ],
      "metadata": {
        "id": "u94063Vir7kJ"
      }
    },
    {
      "cell_type": "code",
      "source": [
        "plt.figure(figsize=(20,8))\n",
        "\n",
        "plt.subplot(1,2,2)\n",
        "plt.title('Income vs payment')\n",
        "sns.boxplot(x=df.Income, y=df.monthly_payment, palette=(\"cubehelix\"))\n",
        "\n",
        "plt.show()"
      ],
      "metadata": {
        "id": "rcgT2a2vr5dy"
      },
      "execution_count": null,
      "outputs": []
    },
    {
      "cell_type": "code",
      "source": [
        "plt.figure(figsize=(20,8))\n",
        "\n",
        "plt.subplot(1,2,2)\n",
        "plt.title('Personal housing vs payment')\n",
        "sns.boxplot(x=df.TARGET, y=df.monthly_payment, palette=(\"cubehelix\"))\n",
        "\n",
        "plt.show()"
      ],
      "metadata": {
        "id": "A-X6-Lq6sZQd"
      },
      "execution_count": null,
      "outputs": []
    },
    {
      "cell_type": "code",
      "source": [
        "credit_vib.drop(columns='job',inplace=True)\n",
        "credit_vib.head()"
      ],
      "metadata": {
        "id": "NHjSRlzqtq4C"
      },
      "execution_count": null,
      "outputs": []
    },
    {
      "cell_type": "code",
      "source": [
        "chi2_by_hand(credit_vib, 'personal_status', 'housing')"
      ],
      "metadata": {
        "id": "2MJd1w4et4kg"
      },
      "execution_count": null,
      "outputs": []
    },
    {
      "cell_type": "code",
      "source": [
        "chi2_by_hand(credit_vib, 'personal_status', 'dependents')"
      ],
      "metadata": {
        "id": "32PXqihDuC1S"
      },
      "execution_count": null,
      "outputs": []
    },
    {
      "cell_type": "code",
      "source": [
        "credit_vib.drop(columns='personal_status',inplace=True)"
      ],
      "metadata": {
        "id": "fRNBkhb3uylw"
      },
      "execution_count": null,
      "outputs": []
    },
    {
      "cell_type": "code",
      "source": [
        "plt.figure(figsize=(20,8))\n",
        "\n",
        "plt.subplot(1,2,2)\n",
        "plt.title('Personal housing time and Target')\n",
        "sns.boxplot(x=df.TARGET, y=df.housing_time, palette=(\"cubehelix\"))\n",
        "\n",
        "plt.show()"
      ],
      "metadata": {
        "id": "EhJCLWQEvHJA"
      },
      "execution_count": null,
      "outputs": []
    },
    {
      "cell_type": "code",
      "source": [
        "plt.figure(figsize=(20,8))\n",
        "\n",
        "plt.subplot(1,2,2)\n",
        "plt.title('Personal age and Target')\n",
        "sns.boxplot(x=df.TARGET, y=df.age, palette=(\"cubehelix\"))\n",
        "\n",
        "plt.show()"
      ],
      "metadata": {
        "id": "rwQOaqWVvSv3"
      },
      "execution_count": null,
      "outputs": []
    },
    {
      "cell_type": "code",
      "source": [
        "credit_vib = pd.get_dummies(credit_vib, drop_first= False)"
      ],
      "metadata": {
        "id": "34qMN7KTvgC3"
      },
      "execution_count": null,
      "outputs": []
    },
    {
      "cell_type": "code",
      "source": [
        "print('simul dataset shape: '.format(0),df.shape)\n"
      ],
      "metadata": {
        "id": "20H2n71Ivou3"
      },
      "execution_count": null,
      "outputs": []
    },
    {
      "cell_type": "code",
      "source": [
        "credit_vib.head()"
      ],
      "metadata": {
        "id": "gBesDenivseJ"
      },
      "execution_count": null,
      "outputs": []
    },
    {
      "cell_type": "code",
      "source": [
        "df_ext_src_corr1 = credit_vib[['age','dependents','monthly_payment']].corr()\n",
        "fig, ax = plt.subplots(figsize=(10,5))         # Sample figsize in inches\n",
        "sns.heatmap(df_ext_src_corr1,vmin=-1.0,vmax=1.0,annot=True,ax= ax, linewidths=.5)"
      ],
      "metadata": {
        "id": "Z5frlh4Uvtyf"
      },
      "execution_count": null,
      "outputs": []
    },
    {
      "cell_type": "code",
      "source": [
        "label = credit_vib['TARGET']\n",
        "df_train = credit_vib.copy()\n",
        "df_train = df_train.drop(columns=['TARGET'])"
      ],
      "metadata": {
        "id": "6_lUAv8Ewvqg"
      },
      "execution_count": null,
      "outputs": []
    },
    {
      "cell_type": "code",
      "source": [
        "Y = label.copy()\n",
        "X = df_train.copy()\n",
        "feat_names = list(X.columns)\n",
        "\n",
        "X_ids = X.index.values\n",
        "Y_ids = Y.index.values"
      ],
      "metadata": {
        "id": "4UAi8KBVw1Hl"
      },
      "execution_count": null,
      "outputs": []
    },
    {
      "cell_type": "code",
      "source": [
        "import lightgbm as lgb\n",
        "from sklearn.model_selection import train_test_split"
      ],
      "metadata": {
        "id": "sWMJqVLHw26o"
      },
      "execution_count": null,
      "outputs": []
    },
    {
      "cell_type": "code",
      "source": [
        "feature_importances = np.zeros(X.shape[1])\n",
        "\n",
        "model = lgb.LGBMClassifier(objective='binary', boosting_type = 'goss', n_estimators = 1000, class_weight = 'balanced')"
      ],
      "metadata": {
        "id": "JD5_d6Kow44X"
      },
      "execution_count": null,
      "outputs": []
    },
    {
      "cell_type": "code",
      "source": [
        "for i in range(2):\n",
        "    \n",
        "    # Split into training and validation set\n",
        "    train_features, valid_features, train_y, valid_y = train_test_split(X, Y, test_size = 0.25, random_state = i)\n",
        "    \n",
        "    # Train using early stopping\n",
        "    model.fit(train_features, train_y, early_stopping_rounds=100, eval_set = [(valid_features, valid_y)], \n",
        "              eval_metric = 'auc', verbose = 200)\n",
        "    \n",
        "    # Record the feature importances\n",
        "    feature_importances += model.feature_importances_"
      ],
      "metadata": {
        "id": "3PakwHc_w5vA"
      },
      "execution_count": null,
      "outputs": []
    },
    {
      "cell_type": "code",
      "source": [
        "feature_importances = feature_importances / 2\n",
        "\n",
        "feature_importances = pd.DataFrame({'feature': feat_names, 'importance': feature_importances}).sort_values('importance', ascending = False)\n",
        "\n",
        "feature_importances.head()"
      ],
      "metadata": {
        "id": "j6UVwxCAw9Hq"
      },
      "execution_count": null,
      "outputs": []
    },
    {
      "cell_type": "code",
      "source": [
        "zero_features = list(feature_importances[feature_importances['importance'] == 0.0]['feature'])\n",
        "print('There are %d features with 0.0 importance' % len(zero_features))\n",
        "feature_importances.tail()"
      ],
      "metadata": {
        "id": "8WHTjrblw8_q"
      },
      "execution_count": null,
      "outputs": []
    },
    {
      "cell_type": "code",
      "source": [
        "def plot_feature_importances(df, threshold = 0.9):\n",
        "    \"\"\"\n",
        "    Plots 15 most important features and the cumulative importance of features.\n",
        "    Prints the number of features needed to reach threshold cumulative importance.\n",
        "    \n",
        "    Parameters\n",
        "    --------\n",
        "    df : dataframe\n",
        "        Dataframe of feature importances. Columns must be feature and importance\n",
        "    threshold : float, default = 0.9\n",
        "        Threshold for prining information about cumulative importances\n",
        "        \n",
        "    Return\n",
        "    --------\n",
        "    df : dataframe\n",
        "        Dataframe ordered by feature importances with a normalized column (sums to 1)\n",
        "        and a cumulative importance column\n",
        "    \n",
        "    \"\"\"\n",
        "    \n",
        "    plt.rcParams['font.size'] = 18\n",
        "    \n",
        "    # Sort features according to importance\n",
        "    df = df.sort_values('importance', ascending = False).reset_index()\n",
        "    \n",
        "    # Normalize the feature importances to add up to one\n",
        "    df['importance_normalized'] = df['importance'] / df['importance'].sum()\n",
        "    df['cumulative_importance'] = np.cumsum(df['importance_normalized'])\n",
        "\n",
        "    # Make a horizontal bar chart of feature importances\n",
        "    plt.figure(figsize = (10, 6))\n",
        "    ax = plt.subplot()\n",
        "    \n",
        "    # Need to reverse the index to plot most important on top\n",
        "    ax.barh(list(reversed(list(df.index[:15]))), \n",
        "            df['importance_normalized'].head(15), \n",
        "            align = 'center', edgecolor = 'k')\n",
        "    \n",
        "    # Set the yticks and labels\n",
        "    ax.set_yticks(list(reversed(list(df.index[:15]))))\n",
        "    ax.set_yticklabels(df['feature'].head(15))\n",
        "    \n",
        "    # Plot labeling\n",
        "    plt.xlabel('Normalized Importance'); plt.title('Feature Importances')\n",
        "    plt.show()\n",
        "    \n",
        "    # Cumulative importance plot\n",
        "    plt.figure(figsize = (8, 6))\n",
        "    plt.plot(list(range(len(df))), df['cumulative_importance'], 'r-')\n",
        "    plt.xlabel('Number of Features'); plt.ylabel('Cumulative Importance'); \n",
        "    plt.title('Cumulative Feature Importance');\n",
        "    plt.show();\n",
        "    \n",
        "    importance_index = np.min(np.where(df['cumulative_importance'] > threshold))\n",
        "    print('%d features required for %0.2f of cumulative importance' % (importance_index + 1, threshold))\n",
        "    \n",
        "    return df"
      ],
      "metadata": {
        "id": "wzb0bUX_xC8o"
      },
      "execution_count": null,
      "outputs": []
    },
    {
      "cell_type": "code",
      "source": [
        "norm_feature_importances = plot_feature_importances(feature_importances)\n"
      ],
      "metadata": {
        "id": "v83Bz-GrxEvZ"
      },
      "execution_count": null,
      "outputs": []
    },
    {
      "cell_type": "code",
      "source": [
        "df_train = df_train.drop(columns= zero_features)"
      ],
      "metadata": {
        "id": "Ngbxx69exKMK"
      },
      "execution_count": null,
      "outputs": []
    },
    {
      "cell_type": "code",
      "source": [
        "def identify_zero_importance_features(train, train_labels, iterations = 2):\n",
        "# Initialize an empty array to hold feature importances\n",
        "    feature_importances = np.zeros(train.shape[1])\n",
        "\n",
        "    # Create the model with several hyperparameters\n",
        "    model = lgb.LGBMClassifier(objective='binary', boosting_type = 'goss', n_estimators = 10000, class_weight = 'balanced')\n",
        "    \n",
        "    # Fit the model multiple times to avoid overfitting\n",
        "    for i in range(iterations):\n",
        "\n",
        "        # Split into training and validation set\n",
        "        train_features, valid_features, train_y, valid_y = train_test_split(train, train_labels, test_size = 0.25, random_state = i)\n",
        "\n",
        "        # Train using early stopping\n",
        "        model.fit(train_features, train_y, early_stopping_rounds=100, eval_set = [(valid_features, valid_y)], \n",
        "                  eval_metric = 'auc', verbose = 200)\n",
        "\n",
        "        # Record the feature importances\n",
        "        feature_importances += model.feature_importances_ / iterations\n",
        "    \n",
        "    feature_importances = pd.DataFrame({'feature': list(train.columns), 'importance': feature_importances}).sort_values('importance', ascending = False)\n",
        "    \n",
        "    # Find the features with zero importance\n",
        "    zero_features = list(feature_importances[feature_importances['importance'] == 0.0]['feature'])\n",
        "    print('\\nThere are %d features with 0.0 importance' % len(zero_features))\n",
        "    \n",
        "    return zero_features, feature_importances"
      ],
      "metadata": {
        "id": "uOkEfi0rxMHZ"
      },
      "execution_count": null,
      "outputs": []
    },
    {
      "cell_type": "code",
      "source": [
        "threshold = 0.95\n",
        "\n",
        "# Extract the features to keep\n",
        "features_to_keep = list(norm_feature_importances[norm_feature_importances['cumulative_importance'] < threshold]['feature'])\n",
        "\n",
        "# Create new datasets with smaller features\n",
        "df_new = df_train[features_to_keep]"
      ],
      "metadata": {
        "id": "xEnagdK1xPOH"
      },
      "execution_count": null,
      "outputs": []
    },
    {
      "cell_type": "code",
      "source": [
        "df_new['TARGET'] = Y\n"
      ],
      "metadata": {
        "id": "hGahnlqnxSZt"
      },
      "execution_count": null,
      "outputs": []
    },
    {
      "cell_type": "code",
      "source": [
        "df_new.head()"
      ],
      "metadata": {
        "id": "UNRdzSwGxUcW"
      },
      "execution_count": null,
      "outputs": []
    },
    {
      "cell_type": "code",
      "source": [
        "df_new['TARGET'].value_counts()"
      ],
      "metadata": {
        "id": "ZEsEqCM5c6sp"
      },
      "execution_count": null,
      "outputs": []
    },
    {
      "cell_type": "code",
      "source": [
        "df_ext_src = df_new[['monthly_payment','age','TARGET']] \n"
      ],
      "metadata": {
        "id": "8Vqu7VIzZ5KQ"
      },
      "execution_count": null,
      "outputs": []
    },
    {
      "cell_type": "code",
      "source": [
        "\n",
        "df_ext_src_sample = df_ext_src\n",
        "grid = sns.PairGrid(data = df_ext_src_sample, diag_sharey=True,\n",
        "                    hue = 'TARGET', \n",
        "                    vars = [x for x in list(df_ext_src_sample.columns) if x != 'TARGET'])\n",
        "\n",
        "grid.map_upper(plt.scatter, alpha = 0.2)\n",
        "grid.map_diag(sns.kdeplot)\n",
        "grid.map_lower(sns.kdeplot, cmap = plt.cm.OrRd_r);"
      ],
      "metadata": {
        "id": "sGu54SEdYOrx"
      },
      "execution_count": null,
      "outputs": []
    },
    {
      "cell_type": "code",
      "source": [
        "Xnew_train =df_new.copy()"
      ],
      "metadata": {
        "id": "hjdzWcfaklD7"
      },
      "execution_count": null,
      "outputs": []
    },
    {
      "cell_type": "code",
      "source": [
        "Xnew_train = df_new.drop(columns=['TARGET','age'])"
      ],
      "metadata": {
        "id": "2Gg-JXDPxi5H"
      },
      "execution_count": null,
      "outputs": []
    },
    {
      "cell_type": "code",
      "source": [
        "df_new['age']"
      ],
      "metadata": {
        "id": "-iwURXDlo5Gd"
      },
      "execution_count": null,
      "outputs": []
    },
    {
      "cell_type": "code",
      "source": [
        "Xnew_train.head()"
      ],
      "metadata": {
        "id": "G-gEUSJToxnR"
      },
      "execution_count": null,
      "outputs": []
    },
    {
      "cell_type": "code",
      "source": [
        "from sklearn.model_selection import train_test_split\n",
        "\n",
        "X_train, X_test, Y_train, Y_test = train_test_split(Xnew_train, Y, test_size=.2,\n",
        "                                                    random_state=0)\n",
        "\n",
        "X_train_ids = X_train.index.values\n",
        "X_test_ids = X_test.index.values\n",
        "\n",
        "feat_names = list(Xnew_train.columns)"
      ],
      "metadata": {
        "id": "BX1sg_HyxlkH"
      },
      "execution_count": null,
      "outputs": []
    },
    {
      "cell_type": "code",
      "source": [
        "from sklearn.preprocessing import MinMaxScaler\n",
        "scaler = MinMaxScaler(feature_range= (0,1))"
      ],
      "metadata": {
        "id": "_S8DCB_Exnkj"
      },
      "execution_count": null,
      "outputs": []
    },
    {
      "cell_type": "code",
      "source": [
        "scaler.fit(Xnew_train)\n",
        "\n",
        "X_train = scaler.transform(X_train)\n",
        "X_test = scaler.transform(X_test)"
      ],
      "metadata": {
        "id": "-idqWSNCxpsO"
      },
      "execution_count": null,
      "outputs": []
    },
    {
      "cell_type": "code",
      "source": [
        "from collections import Counter\n",
        "from imblearn.over_sampling import SMOTE\n",
        "from imblearn.under_sampling import RandomUnderSampler\n",
        "from imblearn.pipeline import Pipeline\n",
        "\n",
        "over = SMOTE(sampling_strategy=0.6)\n",
        "under = RandomUnderSampler(sampling_strategy=0.8)\n",
        "steps = [('o', over), ('u', under)]\n",
        "pipeline = Pipeline(steps=steps)"
      ],
      "metadata": {
        "id": "P8Nv-HPnxrrj"
      },
      "execution_count": null,
      "outputs": []
    },
    {
      "cell_type": "code",
      "source": [
        "from xgboost import XGBClassifier\n",
        "import xgboost as xgb"
      ],
      "metadata": {
        "id": "7GF8KZqD0V21"
      },
      "execution_count": null,
      "outputs": []
    },
    {
      "cell_type": "code",
      "source": [
        "clf = XGBClassifier(objective='binary:logistic',seed=42,scale_pos_weight=2.2775)"
      ],
      "metadata": {
        "id": "Kw6PCyLX0XEf"
      },
      "execution_count": null,
      "outputs": []
    },
    {
      "cell_type": "code",
      "source": [
        "clf.fit(X_train, Y_train, verbose=True, early_stopping_rounds=10, eval_metric='aucpr', eval_set=[[X_test,Y_test]])"
      ],
      "metadata": {
        "id": "8stqk2hI0YMl"
      },
      "execution_count": null,
      "outputs": []
    },
    {
      "cell_type": "code",
      "source": [
        "pred_proba_t4 = clf.predict_proba(X_test)[:,1]\n"
      ],
      "metadata": {
        "id": "IcbHdmE80cI2"
      },
      "execution_count": null,
      "outputs": []
    },
    {
      "cell_type": "code",
      "source": [
        "score = clf.score(X_test, Y_test)\n",
        "\n",
        "pred_proba_t33 = clf.predict_proba(X_test)\n",
        "\n",
        "print(\"Testing Acc:\", score)\n",
        "\n",
        "y_pred4 = clf.predict(X_test)\n",
        "cm = confusion_matrix(Y_test, y_pred4)\n",
        "\n",
        "fig, ax = plt.subplots(figsize=(8, 8))\n",
        "ax.imshow(cm)\n",
        "ax.grid(False)\n",
        "ax.xaxis.set(ticks=(0, 1), ticklabels=('Predicted 0s', 'Predicted 1s'))\n",
        "ax.yaxis.set(ticks=(0, 1), ticklabels=('Actual 0s', 'Actual 1s'))\n",
        "ax.set_ylim(1.5, -0.5)\n",
        "for i in range(2):\n",
        "    for j in range(2):\n",
        "        ax.text(j, i, cm[i, j], ha='center', va='center', color='red')\n",
        "plt.show()"
      ],
      "metadata": {
        "id": "tT5axrFs0ai2"
      },
      "execution_count": null,
      "outputs": []
    },
    {
      "cell_type": "code",
      "source": [
        "!pip install optuna"
      ],
      "metadata": {
        "id": "4YNeOMzy0mPv"
      },
      "execution_count": null,
      "outputs": []
    },
    {
      "cell_type": "code",
      "source": [
        "def optimize(trial):\n",
        "  objective = trial.suggest_categorical(\"objective\",[\"multi:softmax\",\"multi:softprob\"])\n",
        "  eval_metric = trial.suggest_categorical(\"eval_metric\",[\"merror\",\"mlogloss\",\"auc\"])\n",
        "  max_depth = trial.suggest_int(\"max_depth\", 1, 50)\n",
        "  eta = trial.suggest_float(\"learning_rate\",  0.1, 1, log=True)\n",
        "  gamma = trial.suggest_float(\"gamma\", 0.1, 1 ,log=True)\n",
        "  reg_lambda = trial.suggest_float(\"reg_lambda\", 0.1, 1 ,log=True)\n",
        "  #scale_pos_weight = trial.suggest_float(\"scale_pos_weight\", 1, 100, log=True)\n",
        "  model = XGBClassifier(max_depth=max_depth, eta=eta , gamma=gamma, reg_lambda=reg_lambda, objective = objective, booster= \"gbtree\",\n",
        "                        sampling_method ='gradient_based', num_class=2)#scale_pos_weight=scale_pos_weight\n",
        "  accuracy_area = []\n",
        "  model.fit(X_train,Y_train)\n",
        "  preds = model.predict(X_test)\n",
        "  fold_acc = metrics.accuracy_score(Y_test, preds)\n",
        "  accuracy_area.append(fold_acc)\n",
        "  return -1.0 * np.mean(accuracy_area)"
      ],
      "metadata": {
        "id": "95rZUALL0p0a"
      },
      "execution_count": null,
      "outputs": []
    },
    {
      "cell_type": "code",
      "source": [
        "import optuna\n",
        "from sklearn import  model_selection"
      ],
      "metadata": {
        "id": "QU-AssN40ri5"
      },
      "execution_count": null,
      "outputs": []
    },
    {
      "cell_type": "code",
      "source": [
        "#study = optuna.create_study(direction=\"minimize\")\n",
        "#study.optimize(optimize, n_trials=1000)"
      ],
      "metadata": {
        "id": "ur1y6Ws40svy"
      },
      "execution_count": null,
      "outputs": []
    },
    {
      "cell_type": "code",
      "source": [
        "parameters: {'objective': 'multi:softmax', 'eval_metric': 'mlogloss', 'max_depth': 39, 'learning_rate': 0.1598668143191308, 'gamma': 0.9613463846501532, 'reg_lambda': 0.31206454610995665}"
      ],
      "metadata": {
        "id": "BOerinCefVuu"
      },
      "execution_count": null,
      "outputs": []
    },
    {
      "cell_type": "code",
      "source": [
        ""
      ],
      "metadata": {
        "id": "6yy4xSqZhYeB"
      },
      "execution_count": null,
      "outputs": []
    },
    {
      "cell_type": "code",
      "source": [
        "parameters: {'objective': 'multi:softprob', 'eval_metric': 'mlogloss', 'max_depth': 1, 'learning_rate': 0.49221976744492657, 'gamma': 0.8807972671374964, 'reg_lambda': 0.17934179652902277}"
      ],
      "metadata": {
        "id": "y4QqcR7X1wkC"
      },
      "execution_count": null,
      "outputs": []
    },
    {
      "cell_type": "code",
      "source": [
        "clf2 = XGBClassifier(objective='multi:softprob', sampling_method ='gradient_based',booster='gbtree', seed=42, max_depth=1, learning_rate= 0.49221976744492657, gamma= 0.8807972671374964, reg_lambda=0.17934179652902277, num_class=2)"
      ],
      "metadata": {
        "id": "54u2doSs16KU"
      },
      "execution_count": null,
      "outputs": []
    },
    {
      "cell_type": "code",
      "source": [
        "clf2.fit(X_train, Y_train, verbose=True, early_stopping_rounds=10, eval_metric='mlogloss', eval_set=[[X_test, Y_test]])"
      ],
      "metadata": {
        "id": "Wg-RjzE-2jn8"
      },
      "execution_count": null,
      "outputs": []
    },
    {
      "cell_type": "code",
      "source": [
        "score2 = clf2.score(X_test, Y_test)\n",
        "pred_proba_t2 = clf2.predict_proba(X_test)\n",
        "\n",
        "\n",
        "y_pred2 = clf2.predict(X_test)"
      ],
      "metadata": {
        "id": "wsOReQ3D3Mfk"
      },
      "execution_count": null,
      "outputs": []
    },
    {
      "cell_type": "code",
      "source": [
        "from sklearn.model_selection import cross_val_score"
      ],
      "metadata": {
        "id": "4IX55j3tQ6Z9"
      },
      "execution_count": null,
      "outputs": []
    },
    {
      "cell_type": "code",
      "source": [
        "# Cross-validate on the train data\n",
        "train_cv = cross_val_score(X=X_train,y=Y_train,estimator=clf2,cv=5)\n",
        "print(\"TRAIN GROUP\")\n",
        "print(\"\\nCross-validation accuracy scores:\",train_cv)\n",
        "print(\"Mean score:\",train_cv.mean())\n",
        "\n",
        "train_precision_cv = cross_val_score(X=X_train,y=Y_train,estimator=clf2,cv=5, scoring='precision')\n",
        "print(\"TRAIN GROUP\")\n",
        "print(\"\\nCross-validation precision scores:\",train_precision_cv)\n",
        "print(\"Mean score:\",train_precision_cv.mean())\n",
        "\n",
        "train_recall_cv = cross_val_score(X=X_train,y=Y_train,estimator=clf2,cv=5, scoring='recall')\n",
        "print(\"TRAIN GROUP\")\n",
        "print(\"\\nCross-validation recall scores:\",train_recall_cv)\n",
        "print(\"Mean score:\",train_recall_cv.mean())\n",
        "\n",
        "\n",
        "train_roc_auc_cv = cross_val_score(X=X_train,y=Y_train,estimator=clf2,cv=5, scoring='roc_auc')\n",
        "print(\"TRAIN GROUP\")\n",
        "print(\"\\nCross-validation roc_auc scores:\",train_roc_auc_cv)\n",
        "print(\"Mean score:\",train_roc_auc_cv.mean())"
      ],
      "metadata": {
        "id": "o2ZbP5wKQxce"
      },
      "execution_count": null,
      "outputs": []
    },
    {
      "cell_type": "code",
      "source": [
        "print(classification_report(Y_test, y_pred2))\n"
      ],
      "metadata": {
        "id": "6CZ24lDD3QMA"
      },
      "execution_count": null,
      "outputs": []
    },
    {
      "cell_type": "code",
      "source": [
        "pred_proba_t5 = clf2.predict_proba(X_test)[:,1]\n"
      ],
      "metadata": {
        "id": "Vo6sze8K3U3Z"
      },
      "execution_count": null,
      "outputs": []
    },
    {
      "cell_type": "code",
      "source": [
        "import sklearn.metrics as metrics\n",
        "# calculate the fpr and tpr for all thresholds of the classification\n",
        "\n",
        "\n",
        "clf3_fpr, clf3_tpr, clf3_threshold = metrics.roc_curve(Y_test, pred_proba_t5)\n",
        "\n",
        "#rf_fpr, rf_tpr, rf_threshold = metrics.roc_curve(Y_test, y_test_pred)\n",
        "\n",
        "#rf_roc_auc = metrics.auc(rf_fpr, rf_tpr)\n",
        "clf3_roc_auc = metrics.auc(clf3_fpr, clf3_tpr)\n",
        "\n",
        "# method I: plt\n",
        "import matplotlib.pyplot as plt\n",
        "plt.title('Receiver Operating Characteristic')\n",
        "\n",
        "\n",
        "plt.plot(clf3_fpr, clf3_tpr, '*', label='XGB- (AUC = %0.2F)' % clf3_roc_auc)\n",
        "\n",
        "#plt.plot(rf_fpr, rf_tpr, '--', label='rf (AUC = %0.2F)' % rf_roc_auc)\n",
        "\n",
        "plt.legend(loc = 'lower right')\n",
        "plt.plot([0, 1], [0, 1],'r--')\n",
        "plt.xlim([0, 1])\n",
        "plt.ylim([0, 1])\n",
        "plt.ylabel('True Positive Rate')\n",
        "plt.xlabel('False Positive Rate')\n",
        "plt.show()"
      ],
      "metadata": {
        "id": "rDr92SEjx-mT"
      },
      "execution_count": null,
      "outputs": []
    },
    {
      "cell_type": "code",
      "source": [
        "features = Xnew_train.columns\n",
        "importances = clf2.feature_importances_\n",
        "indices = np.argsort(importances)\n",
        "\n",
        "# customized number \n",
        "num_features = 10 \n",
        "\n",
        "plt.figure(figsize=(10,8))\n",
        "plt.title('Feature Importances')\n",
        "\n",
        "# only plot the customized number of features\n",
        "plt.barh(range(num_features), importances[indices[-num_features:]], color='b', align='center')\n",
        "plt.yticks(range(num_features), [features[i] for i in indices[-num_features:]])\n",
        "plt.xlabel('Relative Importance')\n",
        "plt.show()"
      ],
      "metadata": {
        "id": "SMaiFNN3DJ8r"
      },
      "execution_count": null,
      "outputs": []
    }
  ]
}